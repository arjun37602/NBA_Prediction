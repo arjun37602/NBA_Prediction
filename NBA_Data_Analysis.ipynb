{
  "nbformat": 4,
  "nbformat_minor": 0,
  "metadata": {
    "colab": {
      "provenance": []
    },
    "kernelspec": {
      "name": "python3",
      "display_name": "Python 3"
    },
    "language_info": {
      "name": "python"
    }
  },
  "cells": [
    {
      "cell_type": "code",
      "execution_count": 1,
      "metadata": {
        "colab": {
          "base_uri": "https://localhost:8080/",
          "height": 922
        },
        "id": "fngjwuDizIda",
        "outputId": "69df68f5-0d2a-4979-e0d8-4c8a54c4a3bb"
      },
      "outputs": [
        {
          "output_type": "stream",
          "name": "stdout",
          "text": [
            "Stephen Curry 8x All Star | \n",
            "Stephen Curry 8x All Star | 2x Scoring Champ | \n",
            "Stephen Curry 8x All Star | 2x Scoring Champ | 2015-16 STL Champ | \n",
            "Stephen Curry 8x All Star | 2x Scoring Champ | 2015-16 STL Champ | 4x NBA Champ | \n",
            "Stephen Curry 8x All Star | 2x Scoring Champ | 2015-16 STL Champ | 4x NBA Champ | 8x All-NBA | \n",
            "Stephen Curry 8x All Star | 2x Scoring Champ | 2015-16 STL Champ | 4x NBA Champ | 8x All-NBA | 2009-10 All-Rookie | \n",
            "Stephen Curry 8x All Star | 2x Scoring Champ | 2015-16 STL Champ | 4x NBA Champ | 8x All-NBA | 2009-10 All-Rookie | 2x MVP | \n",
            "Stephen Curry 8x All Star | 2x Scoring Champ | 2015-16 STL Champ | 4x NBA Champ | 8x All-NBA | 2009-10 All-Rookie | 2x MVP | NBA 75th Anniv. Team | \n",
            "Stephen Curry 8x All Star | 2x Scoring Champ | 2015-16 STL Champ | 4x NBA Champ | 8x All-NBA | 2009-10 All-Rookie | 2x MVP | NBA 75th Anniv. Team | 2021-22 AS MVP | \n",
            "Stephen Curry 8x All Star | 2x Scoring Champ | 2015-16 STL Champ | 4x NBA Champ | 8x All-NBA | 2009-10 All-Rookie | 2x MVP | NBA 75th Anniv. Team | 2021-22 AS MVP | 2021-22 WCF MVP | \n",
            "Stephen Curry 8x All Star | 2x Scoring Champ | 2015-16 STL Champ | 4x NBA Champ | 8x All-NBA | 2009-10 All-Rookie | 2x MVP | NBA 75th Anniv. Team | 2021-22 AS MVP | 2021-22 WCF MVP | 2021-22 Finals MVP | \n",
            "Andrew Wiggins 1x All Star | \n",
            "Andrew Wiggins 1x All Star | 2022 NBA Champ | \n",
            "Andrew Wiggins 1x All Star | 2022 NBA Champ | 2014-15 ROY | \n",
            "Andrew Wiggins 1x All Star | 2022 NBA Champ | 2014-15 ROY | 2014-15 All-Rookie | \n",
            "Klay Thompson 5x All Star | \n",
            "Klay Thompson 5x All Star | 4x NBA Champ | \n",
            "Klay Thompson 5x All Star | 4x NBA Champ | 2x All-NBA | \n",
            "Klay Thompson 5x All Star | 4x NBA Champ | 2x All-NBA | 2011-12 All-Rookie | \n",
            "Klay Thompson 5x All Star | 4x NBA Champ | 2x All-NBA | 2011-12 All-Rookie | 2018-19 All-Defensive | \n",
            "Draymond Green 4x All Star | \n",
            "Draymond Green 4x All Star | 2016-17 STL Champ | \n",
            "Draymond Green 4x All Star | 2016-17 STL Champ | 4x NBA Champ | \n",
            "Draymond Green 4x All Star | 2016-17 STL Champ | 4x NBA Champ | 2x All-NBA | \n",
            "Draymond Green 4x All Star | 2016-17 STL Champ | 4x NBA Champ | 2x All-NBA | 7x All-Defensive | \n",
            "Draymond Green 4x All Star | 2016-17 STL Champ | 4x NBA Champ | 2x All-NBA | 7x All-Defensive | 2016-17 Def. POY | \n",
            "Jordan Poole 2022 NBA Champ | \n",
            "Donte DiVincenzo 2021 NBA Champ | \n",
            "Kevon Looney 3x NBA Champ | \n",
            "Jonathan Kuminga 2022 NBA Champ | \n",
            "Moses Moody 2022 NBA Champ | \n",
            "James Wiseman 2022 NBA Champ | \n"
          ]
        },
        {
          "output_type": "stream",
          "name": "stderr",
          "text": [
            "/usr/local/lib/python3.8/dist-packages/seaborn/_decorators.py:36: FutureWarning: Pass the following variables as keyword args: x, y. From version 0.12, the only valid positional argument will be `data`, and passing other arguments without an explicit keyword will result in an error or misinterpretation.\n",
            "  warnings.warn(\n"
          ]
        },
        {
          "output_type": "display_data",
          "data": {
            "text/plain": [
              "<Figure size 432x288 with 1 Axes>"
            ],
            "image/png": "[encoded data removed]"
          },
          "metadata": {
            "needs_background": "light"
          }
        }
      ],
      "source": [
        "import pandas as pd\n",
        "import requests\n",
        "import re\n",
        "from bs4 import BeautifulSoup\n",
        "import seaborn as sns\n",
        "import matplotlib.pyplot as plt\n",
        "\n",
        "gsw_url = (f'https://www.basketball-reference.com/teams/GSW/2023.html')\n",
        "gsw_res = requests.get(gsw_url)\n",
        "#making the request to URL in readable form HTML\n",
        "gsw_soup = BeautifulSoup(gsw_res.content, 'lxml')\n",
        "#isolating Per Game Table\n",
        "gsw_per_game = gsw_soup.find(name = 'table', attrs = {'id' : 'per_game'})\n",
        "#array that stores dictionaries of all player stats\n",
        "gsw_stats = []\n",
        "\n",
        "# Excluding the first 'tr', since that's the table's title head, tr is a HTML TAG(table)\n",
        "# with every players individual stats\n",
        "# Excluding the first 'tr', since that's the table's title head, tr is a HTML TAG(table)\n",
        "# with every players individual stats\n",
        "for i in gsw_per_game.find_all('tr')[1:]: \n",
        "    #stats for each player\n",
        "  player = {}\n",
        "  player['Name'] = i.find('a').text\n",
        "  player['Age'] = i.find('td', {'data-stat' : 'age'}).text\n",
        "  player['Min PG'] = i.find('td', {'data-stat' : 'mp_per_g'}).text\n",
        "  player['Field Goal %'] = i.find('td', {'data-stat' : 'fg_pct'}).text\n",
        "  player['Rebounds PG'] = i.find('td', {'data-stat' : 'trb_per_g'}).text\n",
        "  player['Assists PG'] = i.find('td', {'data-stat' : 'ast_per_g'}).text\n",
        "  player['Steals PG'] = i.find('td', {'data-stat' : 'stl_per_g'}).text\n",
        "  player['Blocks PG'] = i.find('td', {'data-stat' : 'blk_per_g'}).text\n",
        "  player['Turnovers PG'] = i.find('td', {'data-stat' : 'tov_per_g'}).text\n",
        "  player['Points PG'] = i.find('td', {'data-stat' : 'pts_per_g'}).text\n",
        "  gsw_stats.append(player)\n",
        "  ######################################################################\n",
        "  #extracting players individual person achievements by scraping\n",
        "  #their personal websites through URL concation\n",
        "\n",
        "  player_url = ('https://www.basketball-reference.com/' + i.find('a').attrs['href'])\n",
        "  extraction = requests.get(player_url)\n",
        "  player_soup = BeautifulSoup(extraction.content, 'lxml')\n",
        "  player_info = player_soup.find(name = 'ul', attrs = {'id' : 'bling'})\n",
        "  #print(player_info)\n",
        "  achievement = \"\"\n",
        "  if player_info is not None:\n",
        "    for i in player_info.find_all('li'):\n",
        "      achievement +=  i.find('a').text + \" | \"\n",
        "      print(player['Name'], achievement)\n",
        "\n",
        "\n",
        "\n",
        "\n",
        "gsw_df = pd.DataFrame(gsw_stats)\n",
        "#print(gsw_df)\n",
        "\n",
        "\n",
        "\n",
        "\n",
        "sns.scatterplot(gsw_df['Min PG'], gsw_df['Turnovers PG'])\n",
        "plt.title('Relationship Between Average Minutes Played and Turnovers Per Game');"
      ]
    },
    {
      "cell_type": "code",
      "source": [
        "sns.scatterplot(gsw_df['Age'], gsw_df['Points PG'])\n",
        "plt.title('Relationship Between Age and Total Points Scored');"
      ],
      "metadata": {
        "colab": {
          "base_uri": "https://localhost:8080/",
          "height": 351
        },
        "id": "yOvhzYoZtf3f",
        "outputId": "b0071963-5d71-4be4-9c61-34dda77f95cb"
      },
      "execution_count": 2,
      "outputs": [
        {
          "output_type": "stream",
          "name": "stderr",
          "text": [
            "/usr/local/lib/python3.8/dist-packages/seaborn/_decorators.py:36: FutureWarning: Pass the following variables as keyword args: x, y. From version 0.12, the only valid positional argument will be `data`, and passing other arguments without an explicit keyword will result in an error or misinterpretation.\n",
            "  warnings.warn(\n"
          ]
        },
        {
          "output_type": "display_data",
          "data": {
            "text/plain": [
              "<Figure size 432x288 with 1 Axes>"
            ],
            "image/png": "[encoded data removed]"
          },
          "metadata": {
            "needs_background": "light"
          }
        }
      ]
    },
    {
      "cell_type": "code",
      "source": [
        "base_url = 'https://www.basketball-reference.com/'\n",
        "\n",
        "# The requests library can send a GET request to the base_url\n",
        "res_base = requests.get(base_url)\n",
        "\n",
        "# BeautifulSoup library parses the content of an HTML document, in this case res_base\n",
        "base_soup = BeautifulSoup(res_base.content, 'lxml')\n",
        "\n",
        "# BeautifulSoup's .find() method searches for a tag and specified attributes, returning the first match \n",
        "select_team = base_soup.find(name = 'div', attrs = {'id' : 'teams'})\n",
        "#store teams\n",
        "team_list = []\n",
        "for i in select_team.find_all('option')[1:31]:\n",
        "    \n",
        "    name = i.get('value')\n",
        "    team_list.append(name)\n",
        "#every single NBA Team's website URL    \n",
        "print(team_list)"
      ],
      "metadata": {
        "colab": {
          "base_uri": "https://localhost:8080/",
          "height": 240
        },
        "id": "rn1DeYtU7nJe",
        "outputId": "b5c5507b-9a45-49ec-e762-aab315dddd4f"
      },
      "execution_count": 178,
      "outputs": [
        {
          "output_type": "error",
          "ename": "AttributeError",
          "evalue": "ignored",
          "traceback": [
            "\u001b[0;31m---------------------------------------------------------------------------\u001b[0m",
            "\u001b[0;31mAttributeError\u001b[0m                            Traceback (most recent call last)",
            "\u001b[0;32m<ipython-input-178-7c4cc3118230>\u001b[0m in \u001b[0;36m<module>\u001b[0;34m\u001b[0m\n\u001b[1;32m     11\u001b[0m \u001b[0;31m#store teams\u001b[0m\u001b[0;34m\u001b[0m\u001b[0;34m\u001b[0m\u001b[0;34m\u001b[0m\u001b[0m\n\u001b[1;32m     12\u001b[0m \u001b[0mteam_list\u001b[0m \u001b[0;34m=\u001b[0m \u001b[0;34m[\u001b[0m\u001b[0;34m]\u001b[0m\u001b[0;34m\u001b[0m\u001b[0;34m\u001b[0m\u001b[0m\n\u001b[0;32m---> 13\u001b[0;31m \u001b[0;32mfor\u001b[0m \u001b[0mi\u001b[0m \u001b[0;32min\u001b[0m \u001b[0mselect_team\u001b[0m\u001b[0;34m.\u001b[0m\u001b[0mfind_all\u001b[0m\u001b[0;34m(\u001b[0m\u001b[0;34m'option'\u001b[0m\u001b[0;34m)\u001b[0m\u001b[0;34m[\u001b[0m\u001b[0;36m1\u001b[0m\u001b[0;34m:\u001b[0m\u001b[0;36m31\u001b[0m\u001b[0;34m]\u001b[0m\u001b[0;34m:\u001b[0m\u001b[0;34m\u001b[0m\u001b[0;34m\u001b[0m\u001b[0m\n\u001b[0m\u001b[1;32m     14\u001b[0m \u001b[0;34m\u001b[0m\u001b[0m\n\u001b[1;32m     15\u001b[0m     \u001b[0mname\u001b[0m \u001b[0;34m=\u001b[0m \u001b[0mi\u001b[0m\u001b[0;34m.\u001b[0m\u001b[0mget\u001b[0m\u001b[0;34m(\u001b[0m\u001b[0;34m'value'\u001b[0m\u001b[0;34m)\u001b[0m\u001b[0;34m\u001b[0m\u001b[0;34m\u001b[0m\u001b[0m\n",
            "\u001b[0;31mAttributeError\u001b[0m: 'NoneType' object has no attribute 'find_all'"
          ]
        }
      ]
    },
    {
      "cell_type": "code",
      "source": [
        "#provides a list of every single player in every single team in a given year\n",
        "def get_stats(year):\n",
        "    # Creating a list of dictionaries to then convert into a Pandas Dataframe\n",
        "    nba_info = []\n",
        "    \n",
        "    # Iteratively finding the URL page for each NBA team according to the 'year' parameter and instantiating\n",
        "    # a BeautifulSoup object\n",
        "    for i in team_list:\n",
        "      #custom url web request for each team\n",
        "        team_url = (f'https://www.basketball-reference.com{i}/{str(year)}.html')\n",
        "        team_res = requests.get(team_url)\n",
        "        team_soup = BeautifulSoup(team_res.content, 'lxml')\n",
        "        per_game = team_soup.find(name = 'table', attrs = {'id' : 'per_game'})\n",
        "        for row in per_game.find_all('tr')[1:]:  # Excluding the first 'tr', since that's the table's title head\n",
        "        #extracting every players age for a particular team in a particular year\n",
        "            #adding every players info from every single team iteratively using web scraping\n",
        "            player = {}\n",
        "            player['Name'] = row.find('a').text.strip()\n",
        "            \n",
        "            team = i[-3:]\n",
        "            player['Team'] = team\n",
        "            \n",
        "            player['Age'] = row.find('td', {'data-stat' : 'age'}).text\n",
        "            player['Min PG'] = row.find('td', {'data-stat' : 'mp_per_g'}).text\n",
        "            player['Field Goal %'] = row.find('td', {'data-stat' : 'fg_pct'}).text\n",
        "            player['Rebounds PG'] = row.find('td', {'data-stat' : 'trb_per_g'}).text\n",
        "            player['Assists PG'] = row.find('td', {'data-stat' : 'ast_per_g'}).text\n",
        "            player['Steals PG'] = row.find('td', {'data-stat' : 'stl_per_g'}).text\n",
        "            player['Blocks PG'] = row.find('td', {'data-stat' : 'blk_per_g'}).text\n",
        "            player['Turnovers PG'] = row.find('td', {'data-stat' : 'tov_per_g'}).text\n",
        "            player['Points PG'] = row.find('td', {'data-stat' : 'pts_per_g'}).text\n",
        "            #making custom request for each player's website to obtain their demographics/stats\n",
        "            player_url = ('https://www.basketball-reference.com/' + row.find('a').attrs['href'])\n",
        "            player_rest = requests.get(player_url)\n",
        "            player_soup = BeautifulSoup(player_rest.content, 'lxml')\n",
        "            player_info = player_soup.find(name = 'div', attrs = {'itemtype' : 'https://schema.org/Person'})\n",
        "            nba_info.append(player)\n",
        "        \n",
        "    nba_info_df = pd.DataFrame(nba_info)\n",
        "    return nba_info_df\n",
        "\n",
        "h = get_stats(2016)\n",
        "print(h)"
      ],
      "metadata": {
        "colab": {
          "base_uri": "https://localhost:8080/",
          "height": 347
        },
        "id": "kqXMEdBht7JW",
        "outputId": "1b956728-a696-4339-d2b8-bdfd03e06f33"
      },
      "execution_count": 175,
      "outputs": [
        {
          "output_type": "error",
          "ename": "AttributeError",
          "evalue": "ignored",
          "traceback": [
            "\u001b[0;31m---------------------------------------------------------------------------\u001b[0m",
            "\u001b[0;31mAttributeError\u001b[0m                            Traceback (most recent call last)",
            "\u001b[0;32m<ipython-input-175-b93ae1374de9>\u001b[0m in \u001b[0;36m<module>\u001b[0;34m\u001b[0m\n\u001b[1;32m     39\u001b[0m     \u001b[0;32mreturn\u001b[0m \u001b[0mnba_info_df\u001b[0m\u001b[0;34m\u001b[0m\u001b[0;34m\u001b[0m\u001b[0m\n\u001b[1;32m     40\u001b[0m \u001b[0;34m\u001b[0m\u001b[0m\n\u001b[0;32m---> 41\u001b[0;31m \u001b[0mh\u001b[0m \u001b[0;34m=\u001b[0m \u001b[0mget_stats\u001b[0m\u001b[0;34m(\u001b[0m\u001b[0;36m2016\u001b[0m\u001b[0;34m)\u001b[0m\u001b[0;34m\u001b[0m\u001b[0;34m\u001b[0m\u001b[0m\n\u001b[0m\u001b[1;32m     42\u001b[0m \u001b[0mprint\u001b[0m\u001b[0;34m(\u001b[0m\u001b[0mh\u001b[0m\u001b[0;34m)\u001b[0m\u001b[0;34m\u001b[0m\u001b[0;34m\u001b[0m\u001b[0m\n",
            "\u001b[0;32m<ipython-input-175-b93ae1374de9>\u001b[0m in \u001b[0;36mget_stats\u001b[0;34m(year)\u001b[0m\n\u001b[1;32m     11\u001b[0m         \u001b[0mteam_soup\u001b[0m \u001b[0;34m=\u001b[0m \u001b[0mBeautifulSoup\u001b[0m\u001b[0;34m(\u001b[0m\u001b[0mteam_res\u001b[0m\u001b[0;34m.\u001b[0m\u001b[0mcontent\u001b[0m\u001b[0;34m,\u001b[0m \u001b[0;34m'lxml'\u001b[0m\u001b[0;34m)\u001b[0m\u001b[0;34m\u001b[0m\u001b[0;34m\u001b[0m\u001b[0m\n\u001b[1;32m     12\u001b[0m         \u001b[0mper_game\u001b[0m \u001b[0;34m=\u001b[0m \u001b[0mteam_soup\u001b[0m\u001b[0;34m.\u001b[0m\u001b[0mfind\u001b[0m\u001b[0;34m(\u001b[0m\u001b[0mname\u001b[0m \u001b[0;34m=\u001b[0m \u001b[0;34m'table'\u001b[0m\u001b[0;34m,\u001b[0m \u001b[0mattrs\u001b[0m \u001b[0;34m=\u001b[0m \u001b[0;34m{\u001b[0m\u001b[0;34m'id'\u001b[0m \u001b[0;34m:\u001b[0m \u001b[0;34m'per_game'\u001b[0m\u001b[0;34m}\u001b[0m\u001b[0;34m)\u001b[0m\u001b[0;34m\u001b[0m\u001b[0;34m\u001b[0m\u001b[0m\n\u001b[0;32m---> 13\u001b[0;31m         \u001b[0;32mfor\u001b[0m \u001b[0mrow\u001b[0m \u001b[0;32min\u001b[0m \u001b[0mper_game\u001b[0m\u001b[0;34m.\u001b[0m\u001b[0mfind_all\u001b[0m\u001b[0;34m(\u001b[0m\u001b[0;34m'tr'\u001b[0m\u001b[0;34m)\u001b[0m\u001b[0;34m[\u001b[0m\u001b[0;36m1\u001b[0m\u001b[0;34m:\u001b[0m\u001b[0;34m]\u001b[0m\u001b[0;34m:\u001b[0m  \u001b[0;31m# Excluding the first 'tr', since that's the table's title head\u001b[0m\u001b[0;34m\u001b[0m\u001b[0;34m\u001b[0m\u001b[0m\n\u001b[0m\u001b[1;32m     14\u001b[0m         \u001b[0;31m#extracting every players age for a particular team in a particular year\u001b[0m\u001b[0;34m\u001b[0m\u001b[0;34m\u001b[0m\u001b[0;34m\u001b[0m\u001b[0m\n\u001b[1;32m     15\u001b[0m \u001b[0;34m\u001b[0m\u001b[0m\n",
            "\u001b[0;31mAttributeError\u001b[0m: 'NoneType' object has no attribute 'find_all'"
          ]
        }
      ]
    },
    {
      "cell_type": "code",
      "source": [
        "import plotly.express as px\n",
        "fig=px.box(gsw_df,y='Field Goal %',x='Steals PG',title='Average points per game for each player on GSW',template='simple_white',hover_data=[\"Name\"],color='Name')\n",
        "fig.show()"
      ],
      "metadata": {
        "colab": {
          "base_uri": "https://localhost:8080/",
          "height": 542
        },
        "id": "z0X52ngmwBlv",
        "outputId": "93b9a0f7-8fc6-4eb4-c1df-119247cade72"
      },
      "execution_count": 18,
      "outputs": [
        {
          "output_type": "display_data",
          "data": {
            "text/html": [
              "<html>\n",
              "<head><meta charset=\"utf-8\" /></head>\n",
              "<body>\n",
              "    <div>            <script src=\"https://cdnjs.cloudflare.com/ajax/libs/mathjax/2.7.5/MathJax.js?config=TeX-AMS-MML_SVG\"></script><script type=\"text/javascript\">if (window.MathJax) {MathJax.Hub.Config({SVG: {font: \"STIX-Web\"}});}</script>                <script type=\"text/javascript\">window.PlotlyConfig = {MathJaxConfig: 'local'};</script>\n",
              "        <script src=\"https://cdn.plot.ly/plotly-2.8.3.min.js\"></script>                <div id=\"d26b6893-6368-4597-958e-06b14a9731d7\" class=\"plotly-graph-div\" style=\"height:525px; width:100%;\"></div>            <script type=\"text/javascript\">                                    window.PLOTLYENV=window.PLOTLYENV || {};                                    if (document.getElementById(\"d26b6893-6368-4597-958e-06b14a9731d7\")) {                    Plotly.newPlot(                        \"d26b6893-6368-4597-958e-06b14a9731d7\",                        [{\"alignmentgroup\":\"True\",\"customdata\":[[\"Stephen Curry\"]],\"hovertemplate\":\"Name=%{customdata[0]}<br>Steals PG=%{x}<br>Field Goal %=%{y}<extra></extra>\",\"legendgroup\":\"Stephen Curry\",\"marker\":{\"color\":\"#1F77B4\"},\"name\":\"Stephen Curry\",\"notched\":false,\"offsetgroup\":\"Stephen Curry\",\"orientation\":\"v\",\"showlegend\":true,\"x\":[\"1.0\"],\"x0\":\" \",\"xaxis\":\"x\",\"y\":[\".500\"],\"y0\":\" \",\"yaxis\":\"y\",\"type\":\"box\"},{\"alignmentgroup\":\"True\",\"customdata\":[[\"Andrew Wiggins\"]],\"hovertemplate\":\"Name=%{customdata[0]}<br>Steals PG=%{x}<br>Field Goal %=%{y}<extra></extra>\",\"legendgroup\":\"Andrew Wiggins\",\"marker\":{\"color\":\"#FF7F0E\"},\"name\":\"Andrew Wiggins\",\"notched\":false,\"offsetgroup\":\"Andrew Wiggins\",\"orientation\":\"v\",\"showlegend\":true,\"x\":[\"1.4\"],\"x0\":\" \",\"xaxis\":\"x\",\"y\":[\".511\"],\"y0\":\" \",\"yaxis\":\"y\",\"type\":\"box\"},{\"alignmentgroup\":\"True\",\"customdata\":[[\"Klay Thompson\"]],\"hovertemplate\":\"Name=%{customdata[0]}<br>Steals PG=%{x}<br>Field Goal %=%{y}<extra></extra>\",\"legendgroup\":\"Klay Thompson\",\"marker\":{\"color\":\"#2CA02C\"},\"name\":\"Klay Thompson\",\"notched\":false,\"offsetgroup\":\"Klay Thompson\",\"orientation\":\"v\",\"showlegend\":true,\"x\":[\"0.6\"],\"x0\":\" \",\"xaxis\":\"x\",\"y\":[\".412\"],\"y0\":\" \",\"yaxis\":\"y\",\"type\":\"box\"},{\"alignmentgroup\":\"True\",\"customdata\":[[\"Draymond Green\"]],\"hovertemplate\":\"Name=%{customdata[0]}<br>Steals PG=%{x}<br>Field Goal %=%{y}<extra></extra>\",\"legendgroup\":\"Draymond Green\",\"marker\":{\"color\":\"#D62728\"},\"name\":\"Draymond Green\",\"notched\":false,\"offsetgroup\":\"Draymond Green\",\"orientation\":\"v\",\"showlegend\":true,\"x\":[\"0.7\"],\"x0\":\" \",\"xaxis\":\"x\",\"y\":[\".509\"],\"y0\":\" \",\"yaxis\":\"y\",\"type\":\"box\"},{\"alignmentgroup\":\"True\",\"customdata\":[[\"Jordan Poole\"]],\"hovertemplate\":\"Name=%{customdata[0]}<br>Steals PG=%{x}<br>Field Goal %=%{y}<extra></extra>\",\"legendgroup\":\"Jordan Poole\",\"marker\":{\"color\":\"#9467BD\"},\"name\":\"Jordan Poole\",\"notched\":false,\"offsetgroup\":\"Jordan Poole\",\"orientation\":\"v\",\"showlegend\":true,\"x\":[\"0.7\"],\"x0\":\" \",\"xaxis\":\"x\",\"y\":[\".430\"],\"y0\":\" \",\"yaxis\":\"y\",\"type\":\"box\"},{\"alignmentgroup\":\"True\",\"customdata\":[[\"Donte DiVincenzo\"]],\"hovertemplate\":\"Name=%{customdata[0]}<br>Steals PG=%{x}<br>Field Goal %=%{y}<extra></extra>\",\"legendgroup\":\"Donte DiVincenzo\",\"marker\":{\"color\":\"#8C564B\"},\"name\":\"Donte DiVincenzo\",\"notched\":false,\"offsetgroup\":\"Donte DiVincenzo\",\"orientation\":\"v\",\"showlegend\":true,\"x\":[\"1.3\"],\"x0\":\" \",\"xaxis\":\"x\",\"y\":[\".392\"],\"y0\":\" \",\"yaxis\":\"y\",\"type\":\"box\"},{\"alignmentgroup\":\"True\",\"customdata\":[[\"Kevon Looney\"]],\"hovertemplate\":\"Name=%{customdata[0]}<br>Steals PG=%{x}<br>Field Goal %=%{y}<extra></extra>\",\"legendgroup\":\"Kevon Looney\",\"marker\":{\"color\":\"#E377C2\"},\"name\":\"Kevon Looney\",\"notched\":false,\"offsetgroup\":\"Kevon Looney\",\"orientation\":\"v\",\"showlegend\":true,\"x\":[\"0.4\"],\"x0\":\" \",\"xaxis\":\"x\",\"y\":[\".621\"],\"y0\":\" \",\"yaxis\":\"y\",\"type\":\"box\"},{\"alignmentgroup\":\"True\",\"customdata\":[[\"Anthony Lamb\"]],\"hovertemplate\":\"Name=%{customdata[0]}<br>Steals PG=%{x}<br>Field Goal %=%{y}<extra></extra>\",\"legendgroup\":\"Anthony Lamb\",\"marker\":{\"color\":\"#7F7F7F\"},\"name\":\"Anthony Lamb\",\"notched\":false,\"offsetgroup\":\"Anthony Lamb\",\"orientation\":\"v\",\"showlegend\":true,\"x\":[\"0.7\"],\"x0\":\" \",\"xaxis\":\"x\",\"y\":[\".500\"],\"y0\":\" \",\"yaxis\":\"y\",\"type\":\"box\"},{\"alignmentgroup\":\"True\",\"customdata\":[[\"Jonathan Kuminga\"]],\"hovertemplate\":\"Name=%{customdata[0]}<br>Steals PG=%{x}<br>Field Goal %=%{y}<extra></extra>\",\"legendgroup\":\"Jonathan Kuminga\",\"marker\":{\"color\":\"#BCBD22\"},\"name\":\"Jonathan Kuminga\",\"notched\":false,\"offsetgroup\":\"Jonathan Kuminga\",\"orientation\":\"v\",\"showlegend\":true,\"x\":[\"0.5\"],\"x0\":\" \",\"xaxis\":\"x\",\"y\":[\".472\"],\"y0\":\" \",\"yaxis\":\"y\",\"type\":\"box\"},{\"alignmentgroup\":\"True\",\"customdata\":[[\"Ty Jerome\"]],\"hovertemplate\":\"Name=%{customdata[0]}<br>Steals PG=%{x}<br>Field Goal %=%{y}<extra></extra>\",\"legendgroup\":\"Ty Jerome\",\"marker\":{\"color\":\"#17BECF\"},\"name\":\"Ty Jerome\",\"notched\":false,\"offsetgroup\":\"Ty Jerome\",\"orientation\":\"v\",\"showlegend\":true,\"x\":[\"0.3\"],\"x0\":\" \",\"xaxis\":\"x\",\"y\":[\".487\"],\"y0\":\" \",\"yaxis\":\"y\",\"type\":\"box\"},{\"alignmentgroup\":\"True\",\"customdata\":[[\"Moses Moody\"]],\"hovertemplate\":\"Name=%{customdata[0]}<br>Steals PG=%{x}<br>Field Goal %=%{y}<extra></extra>\",\"legendgroup\":\"Moses Moody\",\"marker\":{\"color\":\"#1F77B4\"},\"name\":\"Moses Moody\",\"notched\":false,\"offsetgroup\":\"Moses Moody\",\"orientation\":\"v\",\"showlegend\":true,\"x\":[\"0.4\"],\"x0\":\" \",\"xaxis\":\"x\",\"y\":[\".452\"],\"y0\":\" \",\"yaxis\":\"y\",\"type\":\"box\"},{\"alignmentgroup\":\"True\",\"customdata\":[[\"JaMychal Green\"]],\"hovertemplate\":\"Name=%{customdata[0]}<br>Steals PG=%{x}<br>Field Goal %=%{y}<extra></extra>\",\"legendgroup\":\"JaMychal Green\",\"marker\":{\"color\":\"#FF7F0E\"},\"name\":\"JaMychal Green\",\"notched\":false,\"offsetgroup\":\"JaMychal Green\",\"orientation\":\"v\",\"showlegend\":true,\"x\":[\"0.5\"],\"x0\":\" \",\"xaxis\":\"x\",\"y\":[\".512\"],\"y0\":\" \",\"yaxis\":\"y\",\"type\":\"box\"},{\"alignmentgroup\":\"True\",\"customdata\":[[\"James Wiseman\"]],\"hovertemplate\":\"Name=%{customdata[0]}<br>Steals PG=%{x}<br>Field Goal %=%{y}<extra></extra>\",\"legendgroup\":\"James Wiseman\",\"marker\":{\"color\":\"#2CA02C\"},\"name\":\"James Wiseman\",\"notched\":false,\"offsetgroup\":\"James Wiseman\",\"orientation\":\"v\",\"showlegend\":true,\"x\":[\"0.1\"],\"x0\":\" \",\"xaxis\":\"x\",\"y\":[\".609\"],\"y0\":\" \",\"yaxis\":\"y\",\"type\":\"box\"},{\"alignmentgroup\":\"True\",\"customdata\":[[\"Patrick Baldwin Jr.\"]],\"hovertemplate\":\"Name=%{customdata[0]}<br>Steals PG=%{x}<br>Field Goal %=%{y}<extra></extra>\",\"legendgroup\":\"Patrick Baldwin Jr.\",\"marker\":{\"color\":\"#D62728\"},\"name\":\"Patrick Baldwin Jr.\",\"notched\":false,\"offsetgroup\":\"Patrick Baldwin Jr.\",\"orientation\":\"v\",\"showlegend\":true,\"x\":[\"0.5\"],\"x0\":\" \",\"xaxis\":\"x\",\"y\":[\".455\"],\"y0\":\" \",\"yaxis\":\"y\",\"type\":\"box\"},{\"alignmentgroup\":\"True\",\"customdata\":[[\"Ryan Rollins\"]],\"hovertemplate\":\"Name=%{customdata[0]}<br>Steals PG=%{x}<br>Field Goal %=%{y}<extra></extra>\",\"legendgroup\":\"Ryan Rollins\",\"marker\":{\"color\":\"#9467BD\"},\"name\":\"Ryan Rollins\",\"notched\":false,\"offsetgroup\":\"Ryan Rollins\",\"orientation\":\"v\",\"showlegend\":true,\"x\":[\"0.1\"],\"x0\":\" \",\"xaxis\":\"x\",\"y\":[\".316\"],\"y0\":\" \",\"yaxis\":\"y\",\"type\":\"box\"}],                        {\"template\":{\"data\":{\"barpolar\":[{\"marker\":{\"line\":{\"color\":\"white\",\"width\":0.5},\"pattern\":{\"fillmode\":\"overlay\",\"size\":10,\"solidity\":0.2}},\"type\":\"barpolar\"}],\"bar\":[{\"error_x\":{\"color\":\"rgb(36,36,36)\"},\"error_y\":{\"color\":\"rgb(36,36,36)\"},\"marker\":{\"line\":{\"color\":\"white\",\"width\":0.5},\"pattern\":{\"fillmode\":\"overlay\",\"size\":10,\"solidity\":0.2}},\"type\":\"bar\"}],\"carpet\":[{\"aaxis\":{\"endlinecolor\":\"rgb(36,36,36)\",\"gridcolor\":\"white\",\"linecolor\":\"white\",\"minorgridcolor\":\"white\",\"startlinecolor\":\"rgb(36,36,36)\"},\"baxis\":{\"endlinecolor\":\"rgb(36,36,36)\",\"gridcolor\":\"white\",\"linecolor\":\"white\",\"minorgridcolor\":\"white\",\"startlinecolor\":\"rgb(36,36,36)\"},\"type\":\"carpet\"}],\"choropleth\":[{\"colorbar\":{\"outlinewidth\":1,\"tickcolor\":\"rgb(36,36,36)\",\"ticks\":\"outside\"},\"type\":\"choropleth\"}],\"contourcarpet\":[{\"colorbar\":{\"outlinewidth\":1,\"tickcolor\":\"rgb(36,36,36)\",\"ticks\":\"outside\"},\"type\":\"contourcarpet\"}],\"contour\":[{\"colorbar\":{\"outlinewidth\":1,\"tickcolor\":\"rgb(36,36,36)\",\"ticks\":\"outside\"},\"colorscale\":[[0.0,\"#440154\"],[0.1111111111111111,\"#482878\"],[0.2222222222222222,\"#3e4989\"],[0.3333333333333333,\"#31688e\"],[0.4444444444444444,\"#26828e\"],[0.5555555555555556,\"#1f9e89\"],[0.6666666666666666,\"#35b779\"],[0.7777777777777778,\"#6ece58\"],[0.8888888888888888,\"#b5de2b\"],[1.0,\"#fde725\"]],\"type\":\"contour\"}],\"heatmapgl\":[{\"colorbar\":{\"outlinewidth\":1,\"tickcolor\":\"rgb(36,36,36)\",\"ticks\":\"outside\"},\"colorscale\":[[0.0,\"#440154\"],[0.1111111111111111,\"#482878\"],[0.2222222222222222,\"#3e4989\"],[0.3333333333333333,\"#31688e\"],[0.4444444444444444,\"#26828e\"],[0.5555555555555556,\"#1f9e89\"],[0.6666666666666666,\"#35b779\"],[0.7777777777777778,\"#6ece58\"],[0.8888888888888888,\"#b5de2b\"],[1.0,\"#fde725\"]],\"type\":\"heatmapgl\"}],\"heatmap\":[{\"colorbar\":{\"outlinewidth\":1,\"tickcolor\":\"rgb(36,36,36)\",\"ticks\":\"outside\"},\"colorscale\":[[0.0,\"#440154\"],[0.1111111111111111,\"#482878\"],[0.2222222222222222,\"#3e4989\"],[0.3333333333333333,\"#31688e\"],[0.4444444444444444,\"#26828e\"],[0.5555555555555556,\"#1f9e89\"],[0.6666666666666666,\"#35b779\"],[0.7777777777777778,\"#6ece58\"],[0.8888888888888888,\"#b5de2b\"],[1.0,\"#fde725\"]],\"type\":\"heatmap\"}],\"histogram2dcontour\":[{\"colorbar\":{\"outlinewidth\":1,\"tickcolor\":\"rgb(36,36,36)\",\"ticks\":\"outside\"},\"colorscale\":[[0.0,\"#440154\"],[0.1111111111111111,\"#482878\"],[0.2222222222222222,\"#3e4989\"],[0.3333333333333333,\"#31688e\"],[0.4444444444444444,\"#26828e\"],[0.5555555555555556,\"#1f9e89\"],[0.6666666666666666,\"#35b779\"],[0.7777777777777778,\"#6ece58\"],[0.8888888888888888,\"#b5de2b\"],[1.0,\"#fde725\"]],\"type\":\"histogram2dcontour\"}],\"histogram2d\":[{\"colorbar\":{\"outlinewidth\":1,\"tickcolor\":\"rgb(36,36,36)\",\"ticks\":\"outside\"},\"colorscale\":[[0.0,\"#440154\"],[0.1111111111111111,\"#482878\"],[0.2222222222222222,\"#3e4989\"],[0.3333333333333333,\"#31688e\"],[0.4444444444444444,\"#26828e\"],[0.5555555555555556,\"#1f9e89\"],[0.6666666666666666,\"#35b779\"],[0.7777777777777778,\"#6ece58\"],[0.8888888888888888,\"#b5de2b\"],[1.0,\"#fde725\"]],\"type\":\"histogram2d\"}],\"histogram\":[{\"marker\":{\"line\":{\"color\":\"white\",\"width\":0.6}},\"type\":\"histogram\"}],\"mesh3d\":[{\"colorbar\":{\"outlinewidth\":1,\"tickcolor\":\"rgb(36,36,36)\",\"ticks\":\"outside\"},\"type\":\"mesh3d\"}],\"parcoords\":[{\"line\":{\"colorbar\":{\"outlinewidth\":1,\"tickcolor\":\"rgb(36,36,36)\",\"ticks\":\"outside\"}},\"type\":\"parcoords\"}],\"pie\":[{\"automargin\":true,\"type\":\"pie\"}],\"scatter3d\":[{\"line\":{\"colorbar\":{\"outlinewidth\":1,\"tickcolor\":\"rgb(36,36,36)\",\"ticks\":\"outside\"}},\"marker\":{\"colorbar\":{\"outlinewidth\":1,\"tickcolor\":\"rgb(36,36,36)\",\"ticks\":\"outside\"}},\"type\":\"scatter3d\"}],\"scattercarpet\":[{\"marker\":{\"colorbar\":{\"outlinewidth\":1,\"tickcolor\":\"rgb(36,36,36)\",\"ticks\":\"outside\"}},\"type\":\"scattercarpet\"}],\"scattergeo\":[{\"marker\":{\"colorbar\":{\"outlinewidth\":1,\"tickcolor\":\"rgb(36,36,36)\",\"ticks\":\"outside\"}},\"type\":\"scattergeo\"}],\"scattergl\":[{\"marker\":{\"colorbar\":{\"outlinewidth\":1,\"tickcolor\":\"rgb(36,36,36)\",\"ticks\":\"outside\"}},\"type\":\"scattergl\"}],\"scattermapbox\":[{\"marker\":{\"colorbar\":{\"outlinewidth\":1,\"tickcolor\":\"rgb(36,36,36)\",\"ticks\":\"outside\"}},\"type\":\"scattermapbox\"}],\"scatterpolargl\":[{\"marker\":{\"colorbar\":{\"outlinewidth\":1,\"tickcolor\":\"rgb(36,36,36)\",\"ticks\":\"outside\"}},\"type\":\"scatterpolargl\"}],\"scatterpolar\":[{\"marker\":{\"colorbar\":{\"outlinewidth\":1,\"tickcolor\":\"rgb(36,36,36)\",\"ticks\":\"outside\"}},\"type\":\"scatterpolar\"}],\"scatter\":[{\"marker\":{\"colorbar\":{\"outlinewidth\":1,\"tickcolor\":\"rgb(36,36,36)\",\"ticks\":\"outside\"}},\"type\":\"scatter\"}],\"scatterternary\":[{\"marker\":{\"colorbar\":{\"outlinewidth\":1,\"tickcolor\":\"rgb(36,36,36)\",\"ticks\":\"outside\"}},\"type\":\"scatterternary\"}],\"surface\":[{\"colorbar\":{\"outlinewidth\":1,\"tickcolor\":\"rgb(36,36,36)\",\"ticks\":\"outside\"},\"colorscale\":[[0.0,\"#440154\"],[0.1111111111111111,\"#482878\"],[0.2222222222222222,\"#3e4989\"],[0.3333333333333333,\"#31688e\"],[0.4444444444444444,\"#26828e\"],[0.5555555555555556,\"#1f9e89\"],[0.6666666666666666,\"#35b779\"],[0.7777777777777778,\"#6ece58\"],[0.8888888888888888,\"#b5de2b\"],[1.0,\"#fde725\"]],\"type\":\"surface\"}],\"table\":[{\"cells\":{\"fill\":{\"color\":\"rgb(237,237,237)\"},\"line\":{\"color\":\"white\"}},\"header\":{\"fill\":{\"color\":\"rgb(217,217,217)\"},\"line\":{\"color\":\"white\"}},\"type\":\"table\"}]},\"layout\":{\"annotationdefaults\":{\"arrowhead\":0,\"arrowwidth\":1},\"autotypenumbers\":\"strict\",\"coloraxis\":{\"colorbar\":{\"outlinewidth\":1,\"tickcolor\":\"rgb(36,36,36)\",\"ticks\":\"outside\"}},\"colorscale\":{\"diverging\":[[0.0,\"rgb(103,0,31)\"],[0.1,\"rgb(178,24,43)\"],[0.2,\"rgb(214,96,77)\"],[0.3,\"rgb(244,165,130)\"],[0.4,\"rgb(253,219,199)\"],[0.5,\"rgb(247,247,247)\"],[0.6,\"rgb(209,229,240)\"],[0.7,\"rgb(146,197,222)\"],[0.8,\"rgb(67,147,195)\"],[0.9,\"rgb(33,102,172)\"],[1.0,\"rgb(5,48,97)\"]],\"sequential\":[[0.0,\"#440154\"],[0.1111111111111111,\"#482878\"],[0.2222222222222222,\"#3e4989\"],[0.3333333333333333,\"#31688e\"],[0.4444444444444444,\"#26828e\"],[0.5555555555555556,\"#1f9e89\"],[0.6666666666666666,\"#35b779\"],[0.7777777777777778,\"#6ece58\"],[0.8888888888888888,\"#b5de2b\"],[1.0,\"#fde725\"]],\"sequentialminus\":[[0.0,\"#440154\"],[0.1111111111111111,\"#482878\"],[0.2222222222222222,\"#3e4989\"],[0.3333333333333333,\"#31688e\"],[0.4444444444444444,\"#26828e\"],[0.5555555555555556,\"#1f9e89\"],[0.6666666666666666,\"#35b779\"],[0.7777777777777778,\"#6ece58\"],[0.8888888888888888,\"#b5de2b\"],[1.0,\"#fde725\"]]},\"colorway\":[\"#1F77B4\",\"#FF7F0E\",\"#2CA02C\",\"#D62728\",\"#9467BD\",\"#8C564B\",\"#E377C2\",\"#7F7F7F\",\"#BCBD22\",\"#17BECF\"],\"font\":{\"color\":\"rgb(36,36,36)\"},\"geo\":{\"bgcolor\":\"white\",\"lakecolor\":\"white\",\"landcolor\":\"white\",\"showlakes\":true,\"showland\":true,\"subunitcolor\":\"white\"},\"hoverlabel\":{\"align\":\"left\"},\"hovermode\":\"closest\",\"mapbox\":{\"style\":\"light\"},\"paper_bgcolor\":\"white\",\"plot_bgcolor\":\"white\",\"polar\":{\"angularaxis\":{\"gridcolor\":\"rgb(232,232,232)\",\"linecolor\":\"rgb(36,36,36)\",\"showgrid\":false,\"showline\":true,\"ticks\":\"outside\"},\"bgcolor\":\"white\",\"radialaxis\":{\"gridcolor\":\"rgb(232,232,232)\",\"linecolor\":\"rgb(36,36,36)\",\"showgrid\":false,\"showline\":true,\"ticks\":\"outside\"}},\"scene\":{\"xaxis\":{\"backgroundcolor\":\"white\",\"gridcolor\":\"rgb(232,232,232)\",\"gridwidth\":2,\"linecolor\":\"rgb(36,36,36)\",\"showbackground\":true,\"showgrid\":false,\"showline\":true,\"ticks\":\"outside\",\"zeroline\":false,\"zerolinecolor\":\"rgb(36,36,36)\"},\"yaxis\":{\"backgroundcolor\":\"white\",\"gridcolor\":\"rgb(232,232,232)\",\"gridwidth\":2,\"linecolor\":\"rgb(36,36,36)\",\"showbackground\":true,\"showgrid\":false,\"showline\":true,\"ticks\":\"outside\",\"zeroline\":false,\"zerolinecolor\":\"rgb(36,36,36)\"},\"zaxis\":{\"backgroundcolor\":\"white\",\"gridcolor\":\"rgb(232,232,232)\",\"gridwidth\":2,\"linecolor\":\"rgb(36,36,36)\",\"showbackground\":true,\"showgrid\":false,\"showline\":true,\"ticks\":\"outside\",\"zeroline\":false,\"zerolinecolor\":\"rgb(36,36,36)\"}},\"shapedefaults\":{\"fillcolor\":\"black\",\"line\":{\"width\":0},\"opacity\":0.3},\"ternary\":{\"aaxis\":{\"gridcolor\":\"rgb(232,232,232)\",\"linecolor\":\"rgb(36,36,36)\",\"showgrid\":false,\"showline\":true,\"ticks\":\"outside\"},\"baxis\":{\"gridcolor\":\"rgb(232,232,232)\",\"linecolor\":\"rgb(36,36,36)\",\"showgrid\":false,\"showline\":true,\"ticks\":\"outside\"},\"bgcolor\":\"white\",\"caxis\":{\"gridcolor\":\"rgb(232,232,232)\",\"linecolor\":\"rgb(36,36,36)\",\"showgrid\":false,\"showline\":true,\"ticks\":\"outside\"}},\"title\":{\"x\":0.05},\"xaxis\":{\"automargin\":true,\"gridcolor\":\"rgb(232,232,232)\",\"linecolor\":\"rgb(36,36,36)\",\"showgrid\":false,\"showline\":true,\"ticks\":\"outside\",\"title\":{\"standoff\":15},\"zeroline\":false,\"zerolinecolor\":\"rgb(36,36,36)\"},\"yaxis\":{\"automargin\":true,\"gridcolor\":\"rgb(232,232,232)\",\"linecolor\":\"rgb(36,36,36)\",\"showgrid\":false,\"showline\":true,\"ticks\":\"outside\",\"title\":{\"standoff\":15},\"zeroline\":false,\"zerolinecolor\":\"rgb(36,36,36)\"}}},\"xaxis\":{\"anchor\":\"y\",\"domain\":[0.0,1.0],\"title\":{\"text\":\"Steals PG\"}},\"yaxis\":{\"anchor\":\"x\",\"domain\":[0.0,1.0],\"title\":{\"text\":\"Field Goal %\"}},\"legend\":{\"title\":{\"text\":\"Name\"},\"tracegroupgap\":0},\"title\":{\"text\":\"Average points per game for each player on GSW\"},\"boxmode\":\"group\"},                        {\"responsive\": true}                    ).then(function(){\n",
              "                            \n",
              "var gd = document.getElementById('d26b6893-6368-4597-958e-06b14a9731d7');\n",
              "var x = new MutationObserver(function (mutations, observer) {{\n",
              "        var display = window.getComputedStyle(gd).display;\n",
              "        if (!display || display === 'none') {{\n",
              "            console.log([gd, 'removed!']);\n",
              "            Plotly.purge(gd);\n",
              "            observer.disconnect();\n",
              "        }}\n",
              "}});\n",
              "\n",
              "// Listen for the removal of the full notebook cells\n",
              "var notebookContainer = gd.closest('#notebook-container');\n",
              "if (notebookContainer) {{\n",
              "    x.observe(notebookContainer, {childList: true});\n",
              "}}\n",
              "\n",
              "// Listen for the clearing of the current output cell\n",
              "var outputEl = gd.closest('.output');\n",
              "if (outputEl) {{\n",
              "    x.observe(outputEl, {childList: true});\n",
              "}}\n",
              "\n",
              "                        })                };                            </script>        </div>\n",
              "</body>\n",
              "</html>"
            ]
          },
          "metadata": {}
        }
      ]
    },
    {
      "cell_type": "code",
      "source": [
        "stats.plot(x='win_pct', y = 'award_share', style='o' )\n",
        "plt.xlabel('Win percentage of MVPs team')\n",
        "plt.ylabel('Award Share points won during MVP voting')"
      ],
      "metadata": {
        "colab": {
          "base_uri": "https://localhost:8080/",
          "height": 297
        },
        "id": "p7ziYnVbBlrz",
        "outputId": "8030b22c-7c46-4eba-a7f1-682e95f282f1"
      },
      "execution_count": 70,
      "outputs": [
        {
          "output_type": "execute_result",
          "data": {
            "text/plain": [
              "Text(0, 0.5, 'Award Share points won during MVP voting')"
            ]
          },
          "metadata": {},
          "execution_count": 70
        },
        {
          "output_type": "display_data",
          "data": {
            "text/plain": [
              "<Figure size 432x288 with 1 Axes>"
            ],
            "image/png": "[encoded data removed]"
          },
          "metadata": {
            "needs_background": "light"
          }
        }
      ]
    },
    {
      "cell_type": "code",
      "source": [
        "#Single variable Linear Regression Model - R value of .15 indicating that\n",
        "#a team's win percentage has no correlation with the chances of becoming NBA MVP.\n",
        "# rather individual talent and individual stats affect it more\n",
        "X = pd.DataFrame(stats['win_pct'])\n",
        "y = pd.DataFrame(stats['award_share'])\n",
        "X_train, X_test, y_train, y_test = train_test_split(X, y, random_state=42,test_size = 0.2)\n",
        "print(X_train.shape)\n",
        "print(X_test.shape)\n",
        "print(y_train.shape)\n",
        "print(y_test.shape)\n",
        "#train model\n",
        "model = LinearRegression()\n",
        "model.fit(X_train, y_train)\n",
        "#intercept\n",
        "print('The intercept is', model.intercept_)\n",
        "#slope\n",
        "print('The slope is', model.coef_)\n",
        "print('The r^2 correlation is', model.score(X_test, y_test)) \n",
        "#returns r^2 value of roughly .15 indicating low correlation - closer to 0 means more random"
      ],
      "metadata": {
        "colab": {
          "base_uri": "https://localhost:8080/"
        },
        "id": "97kB1A6DB9Pj",
        "outputId": "723d6104-ecb1-4f1a-d868-9fb2b4ea325f"
      },
      "execution_count": 121,
      "outputs": [
        {
          "output_type": "stream",
          "name": "stdout",
          "text": [
            "(509, 1)\n",
            "(128, 1)\n",
            "(509, 1)\n",
            "(128, 1)\n",
            "The intercept is [-0.33752539]\n",
            "The slope is [[0.77748199]]\n",
            "The r^2 correlation is 0.15189172260159967\n"
          ]
        }
      ]
    },
    {
      "cell_type": "code",
      "source": [
        "from operator import index\n",
        "#Multi-variable Linear regression model\n",
        "#Given Stats such as 3pt%, freepoint%, assists, steals, etc, 97% chance of predicting MVP\n",
        "dataset = pd.read_csv('mvp_votings.csv')\n",
        "share_col = dataset['award_share']\n",
        "dataset = dataset.drop(['Unnamed: 0','season', 'player', 'award_share'], axis=1)\n",
        "dataset.head()\n",
        "cols = list(dataset.columns)\n",
        "# index 12 is dependent variable\n",
        "X = pd.DataFrame(dataset)\n",
        "#data that is only award share col\n",
        "y = pd.DataFrame(share_col)\n",
        "X_train, X_test, y_train, y_test = train_test_split(X, y, random_state=888,test_size = 0.2)\n",
        "\"\"\"\n",
        "print(X_train.shape)\n",
        "print(X_test.shape)\n",
        "print(y_train.shape)\n",
        "print(y_test.shape)\n",
        "\"\"\"\n",
        "model = LinearRegression()\n",
        "model.fit(X_train, y_train)\n",
        "w = pd.DataFrame(model.coef_, index=['Co-efficient']).transpose()\n",
        "v = pd.DataFrame(X.columns, columns = ['Attribute'])\n",
        "#checking coefficients that model chose \n",
        "coeff_df = pd.concat([w, v], axis=1, join = 'inner')\n",
        "coeff_df\n",
        "y_pred = model.predict(X_test)\n",
        "y_pred = pd.DataFrame(y_pred, columns=['Predicted'])\n",
        "print('Mean Absolute error: ', metrics.mean_absolute_error(y_test, y_pred))\n",
        "print('Mean squared error: ', metrics.mean_squared_error(y_test, y_pred))\n",
        "print('Root mean squared error: ', np.sqrt(metrics.mean_squared_error(y_test, y_pred)))\n",
        "print('The r^2 correlation is', model.score(X_test, y_test)) "
      ],
      "metadata": {
        "colab": {
          "base_uri": "https://localhost:8080/"
        },
        "id": "h263YB9ERUcx",
        "outputId": "ec5b9906-2de6-4a24-c573-055ce7e738f1"
      },
      "execution_count": 164,
      "outputs": [
        {
          "output_type": "stream",
          "name": "stdout",
          "text": [
            "Mean Absolute error:  0.03026147388702085\n",
            "Mean squared error:  0.002127741303430699\n",
            "Root mean squared error:  0.04612744631378046\n",
            "The r^2 correlation is 0.9737431290933144\n"
          ]
        }
      ]
    },
    {
      "cell_type": "code",
      "source": [
        "#logistic regression model that uses categorical variables to predict who will win MVP\n",
        "# R^2 value > -139700. Poor prediction accuracy - incorrect model to predict MVP\n",
        "import sklearn \n",
        "from sklearn.linear_model import LinearRegression, LogisticRegression\n",
        "from sklearn.preprocessing import LabelEncoder, OneHotEncoder, StandardScaler\n",
        "from sklearn.compose import ColumnTransformer, make_column_transformer\n",
        "from sklearn.model_selection import train_test_split\n",
        "from sklearn import datasets, linear_model, preprocessing\n",
        "from sklearn.pipeline import Pipeline\n",
        "from sklearn.impute import SimpleImputer\n",
        "from sklearn.svm import LinearSVC\n",
        "from sklearn.metrics import mean_absolute_error, mean_squared_error, r2_score, log_loss, roc_auc_score, recall_score, precision_score, average_precision_score, f1_score, classification_report, accuracy_score, plot_roc_curve, plot_precision_recall_curve, plot_confusion_matrix\n",
        "import numpy as np \n",
        "#load dataset csv file as DF\n",
        "stats = pd.read_csv(\"mvp_votings.csv\")\n",
        "#0 null vals in dataset\n",
        "stats.isnull().sum()\n",
        "stats.columns\n",
        "stats.head()\n",
        "#drop columns and create array for col names for future cleaning/sorting\n",
        "stats = stats.rename(columns={'Unnamed: 0': 'num'})\n",
        "stats = stats.drop(['season', 'player'], axis=1)\n",
        "numeric_cols = ['num', 'fga', 'fg3a', 'fta', 'per', 'ts_pct', 'usg_pct', 'bpm',\n",
        "       'win_pct', 'votes_first', 'points_won',\n",
        "       'points_max', 'award_share', 'g', 'mp_per_g', 'pts_per_g', 'trb_per_g',\n",
        "       'ast_per_g', 'stl_per_g', 'blk_per_g', 'fg_pct', 'fg3_pct', 'ft_pct',\n",
        "       'ws', 'ws_per_48']\n",
        "cat_cols = list(set(stats.columns) - set(numeric_cols) - {'target'})\n",
        "cat_cols.sort()\n",
        "stats\n",
        "#test train split\n",
        "random_seed = 888\n",
        "#80% train - 20% test\n",
        "df_train, df_test = train_test_split(stats, test_size=0.2, random_state=random_seed)\n",
        "\n",
        "print(df_train.shape)\n",
        "print(df_test.shape)\n",
        "print()\n",
        "print(df_train['award_share'].value_counts(normalize=True))\n",
        "print()\n",
        "print(df_test['award_share'].value_counts(normalize=True))\n",
        "#scaling data to fit into model and get stats\n",
        "scaler = StandardScaler()\n",
        "scaler.fit(df_train[numeric_cols])\n",
        "#scaling continued\n",
        "def get_features_and_target_arrays(df, numeric_cols, cat_cols, scaler):\n",
        "    X_numeric_scaled = scaler.transform(stats[numeric_cols])\n",
        "    X_categorical = stats[cat_cols].to_numpy()\n",
        "    X = np.hstack((X_categorical, X_numeric_scaled))\n",
        "    y = stats['award_share']\n",
        "    return X, y\n",
        "X, y = get_features_and_target_arrays(df_train, numeric_cols, cat_cols, scaler)\n",
        "#encoding data to fit into and predict from model to make it readable\n",
        "lab = preprocessing.LabelEncoder()\n",
        "y_transformed = lab.fit_transform(y)\n",
        "# max iter set to 1000 due to max iter error\n",
        "lm = LogisticRegression(solver='lbfgs', max_iter=1000)\n",
        "predicted  = lm.fit(X,y_transformed)\n",
        "X_test, y_test = get_features_and_target_arrays(df_test, numeric_cols, cat_cols, scaler)\n",
        "#predicting result, comparing y_pred and y_test\n",
        "test_prob = lm.predict_proba(X_test)[:, 12]\n",
        "test_pred = lm.predict(X_test)\n",
        "r2_score(y_test, test_pred)"
      ],
      "metadata": {
        "colab": {
          "base_uri": "https://localhost:8080/"
        },
        "id": "7mX5DfkHUTQ_",
        "outputId": "44a981a3-4277-46d0-f64c-2c02bd6af464"
      },
      "execution_count": 170,
      "outputs": [
        {
          "output_type": "stream",
          "name": "stdout",
          "text": [
            "(509, 25)\n",
            "(128, 25)\n",
            "\n",
            "0.001    0.151277\n",
            "0.004    0.058939\n",
            "0.003    0.047151\n",
            "0.002    0.039293\n",
            "0.005    0.037328\n",
            "           ...   \n",
            "0.171    0.001965\n",
            "0.177    0.001965\n",
            "0.120    0.001965\n",
            "0.406    0.001965\n",
            "0.852    0.001965\n",
            "Name: award_share, Length: 212, dtype: float64\n",
            "\n",
            "0.001    0.171875\n",
            "0.004    0.070312\n",
            "0.002    0.062500\n",
            "0.007    0.039062\n",
            "0.003    0.023438\n",
            "           ...   \n",
            "0.701    0.007812\n",
            "0.704    0.007812\n",
            "0.200    0.007812\n",
            "0.050    0.007812\n",
            "0.389    0.007812\n",
            "Name: award_share, Length: 74, dtype: float64\n"
          ]
        },
        {
          "output_type": "execute_result",
          "data": {
            "text/plain": [
              "-139700.91219566387"
            ]
          },
          "metadata": {},
          "execution_count": 170
        }
      ]
    }
  ]
}